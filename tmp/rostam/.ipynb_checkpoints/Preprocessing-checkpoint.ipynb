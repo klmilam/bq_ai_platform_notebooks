{
 "cells": [
  {
   "cell_type": "markdown",
   "metadata": {},
   "source": [
    "# Data Ingestion\n",
    "## Contents\n",
    "\n",
    "In the following examples, we'll follow the following process.\n",
    "- Step #1: Query raw data from BigQuery\n",
    "- Step #2: Preprocess raw data\n",
    "- Step #3: Load preprocessed data back into BigQuery  \n",
    "  \n",
    "Storing the preprocessed data in BigQuery ensures that the training and evaluation data is easily accessible in its clean form for model training."
   ]
  },
  {
   "cell_type": "code",
   "execution_count": 1,
   "metadata": {},
   "outputs": [],
   "source": [
    "import pandas as pd\n",
    "from google.cloud import bigquery\n",
    "import numpy as np"
   ]
  },
  {
   "cell_type": "markdown",
   "metadata": {},
   "source": [
    "# Step #1: Query raw data from BigQuery\n",
    "As explained in the `Data_Ingestion.ipynb` notebook, the following example demonstrates how to query data from BigQuery using the Python BigQuery API.  \n",
    "  \n",
    "The results of the query are stored in a Pandas DataFrame, in this case `result`."
   ]
  },
  {
   "cell_type": "code",
   "execution_count": 2,
   "metadata": {},
   "outputs": [],
   "source": [
    "sql = \"\"\"SELECT sends1.riid,\n",
    "  sends1.campaign_send_dt,\n",
    "  sends1.opened,\n",
    "  SUM(IF(sends2.campaign_send_dt < sends1.campaign_send_dt, sends2.opened, 0)) as hist_opens,\n",
    "  SUM(IF(sends2.campaign_send_dt < sends1.campaign_send_dt, 1, 0)) as hist_sends\n",
    "FROM `email-propensity-sandbox.emails.sends` sends1\n",
    "LEFT JOIN `email-propensity-sandbox.emails.sends` sends2\n",
    "ON sends1.riid = sends2.riid\n",
    "GROUP BY 1,2,3\n",
    "\"\"\"\n",
    "\n",
    "client = bigquery.Client()\n",
    "query_job = client.query(sql) # API request\n",
    "result = query_job.to_dataframe()"
   ]
  },
  {
   "cell_type": "markdown",
   "metadata": {},
   "source": [
    "# Step #2: Preprocess raw data"
   ]
  },
  {
   "cell_type": "code",
   "execution_count": 25,
   "metadata": {},
   "outputs": [],
   "source": [
    "result[\"hist_open_rate\"] = result[\"hist_opens\"]/result[\"hist_sends\"]"
   ]
  },
  {
   "cell_type": "markdown",
   "metadata": {},
   "source": [
    "You can create a column indicating which dataset (training or eval) the row should be part of.  \n",
    "  \n",
    "When using BigQuery ML, the sample will be used in the eval dataset if the value is False as shown in the `ModelTraining.ipynb` notebook."
   ]
  },
  {
   "cell_type": "code",
   "execution_count": 14,
   "metadata": {},
   "outputs": [],
   "source": [
    "unique_riid = np.unique(result[\"riid\"])\n",
    "num_eval = int(unique_riid.shape[0] * .25)\n",
    "indices = np.random.choice(unique_riid.shape[0], num_eval, replace=False)\n",
    "eval_riids = unique_riid[indices]\n",
    "result[\"eval\"] = np.where(result[\"riid\"].isin(eval_riids), True, False)"
   ]
  },
  {
   "cell_type": "markdown",
   "metadata": {},
   "source": [
    "# Step 3: Load preprocessed data back into BigQuery\n",
    "Pandas DataFrames can be directly loaded into BigQuery.  \n",
    "  \n",
    "Some things to keep in mind:\n",
    "- The DataFrame's column names will be used as the BigQuery column names.\n",
    "- Update `test_upload` and `pandas_table` with the names of your dataset and destination table, respectively.\n",
    "- The load_config sets the `write_disposition` to `WRITE_TRUNCATE` which means that the destination table's contents are overwriten. If you want to just append the DataFrame to an existing table (assuming same schema) remove the `load_config` from the `load_table_from_dataframe` call."
   ]
  },
  {
   "cell_type": "code",
   "execution_count": 19,
   "metadata": {},
   "outputs": [],
   "source": [
    "client = bigquery.Client()\n",
    "dataset_ref = client.dataset('test_upload') # set to name of dataset\n",
    "table_ref = dataset_ref.table('pandas_table') # set to name of destination table\n",
    "\n",
    "# use load_config to overwrite old table contents\n",
    "load_config = bigquery.job.LoadJobConfig(\n",
    "    create_disposition=bigquery.job.CreateDisposition.CREATE_IF_NEEDED,\n",
    "    write_disposition=bigquery.job.WriteDisposition.WRITE_TRUNCATE)\n",
    "\n",
    "job = client.load_table_from_dataframe(\n",
    "    dataframe=result, # set to name of DataFrame\n",
    "    destination=table_ref,\n",
    "    job_config=load_config)"
   ]
  },
  {
   "cell_type": "code",
   "execution_count": 20,
   "metadata": {},
   "outputs": [
    {
     "data": {
      "text/html": [
       "<div>\n",
       "<style scoped>\n",
       "    .dataframe tbody tr th:only-of-type {\n",
       "        vertical-align: middle;\n",
       "    }\n",
       "\n",
       "    .dataframe tbody tr th {\n",
       "        vertical-align: top;\n",
       "    }\n",
       "\n",
       "    .dataframe thead th {\n",
       "        text-align: right;\n",
       "    }\n",
       "</style>\n",
       "<table border=\"1\" class=\"dataframe\">\n",
       "  <thead>\n",
       "    <tr style=\"text-align: right;\">\n",
       "      <th></th>\n",
       "      <th>riid</th>\n",
       "      <th>campaign_send_dt</th>\n",
       "      <th>opened</th>\n",
       "      <th>hist_opens</th>\n",
       "      <th>hist_sends</th>\n",
       "      <th>hist_open_rate</th>\n",
       "      <th>eval</th>\n",
       "    </tr>\n",
       "  </thead>\n",
       "  <tbody>\n",
       "    <tr>\n",
       "      <th>0</th>\n",
       "      <td>664266962</td>\n",
       "      <td>2018-01-23</td>\n",
       "      <td>0</td>\n",
       "      <td>0</td>\n",
       "      <td>6</td>\n",
       "      <td>0.000000</td>\n",
       "      <td>False</td>\n",
       "    </tr>\n",
       "    <tr>\n",
       "      <th>1</th>\n",
       "      <td>919579622</td>\n",
       "      <td>2018-01-26</td>\n",
       "      <td>0</td>\n",
       "      <td>2</td>\n",
       "      <td>6</td>\n",
       "      <td>0.333333</td>\n",
       "      <td>False</td>\n",
       "    </tr>\n",
       "    <tr>\n",
       "      <th>2</th>\n",
       "      <td>93217902</td>\n",
       "      <td>2018-01-28</td>\n",
       "      <td>0</td>\n",
       "      <td>1</td>\n",
       "      <td>6</td>\n",
       "      <td>0.166667</td>\n",
       "      <td>False</td>\n",
       "    </tr>\n",
       "    <tr>\n",
       "      <th>3</th>\n",
       "      <td>572530442</td>\n",
       "      <td>2018-01-28</td>\n",
       "      <td>0</td>\n",
       "      <td>5</td>\n",
       "      <td>6</td>\n",
       "      <td>0.833333</td>\n",
       "      <td>False</td>\n",
       "    </tr>\n",
       "    <tr>\n",
       "      <th>4</th>\n",
       "      <td>93217902</td>\n",
       "      <td>2018-01-30</td>\n",
       "      <td>0</td>\n",
       "      <td>1</td>\n",
       "      <td>7</td>\n",
       "      <td>0.142857</td>\n",
       "      <td>False</td>\n",
       "    </tr>\n",
       "  </tbody>\n",
       "</table>\n",
       "</div>"
      ],
      "text/plain": [
       "        riid campaign_send_dt  opened  hist_opens  hist_sends  hist_open_rate  \\\n",
       "0  664266962       2018-01-23       0           0           6        0.000000   \n",
       "1  919579622       2018-01-26       0           2           6        0.333333   \n",
       "2   93217902       2018-01-28       0           1           6        0.166667   \n",
       "3  572530442       2018-01-28       0           5           6        0.833333   \n",
       "4   93217902       2018-01-30       0           1           7        0.142857   \n",
       "\n",
       "    eval  \n",
       "0  False  \n",
       "1  False  \n",
       "2  False  \n",
       "3  False  \n",
       "4  False  "
      ]
     },
     "execution_count": 20,
     "metadata": {},
     "output_type": "execute_result"
    }
   ],
   "source": [
    "result.head()"
   ]
  }
 ],
 "metadata": {
  "kernelspec": {
   "display_name": "Python 3",
   "language": "python",
   "name": "python3"
  },
  "language_info": {
   "codemirror_mode": {
    "name": "ipython",
    "version": 3
   },
   "file_extension": ".py",
   "mimetype": "text/x-python",
   "name": "python",
   "nbconvert_exporter": "python",
   "pygments_lexer": "ipython3",
   "version": "3.5.3"
  }
 },
 "nbformat": 4,
 "nbformat_minor": 2
}
